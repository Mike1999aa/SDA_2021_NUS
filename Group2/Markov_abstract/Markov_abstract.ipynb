{
 "cells": [
  {
   "cell_type": "code",
   "execution_count": 2,
   "metadata": {},
   "outputs": [
    {
     "name": "stdout",
     "output_type": "stream",
     "text": [
      "Collecting markovify\n",
      "  Downloading markovify-0.9.0.tar.gz (27 kB)\n",
      "Collecting unidecode\n",
      "  Downloading Unidecode-1.2.0-py2.py3-none-any.whl (241 kB)\n",
      "\u001b[K     |████████████████████████████████| 241 kB 6.6 MB/s eta 0:00:01\n",
      "\u001b[?25hBuilding wheels for collected packages: markovify\n",
      "  Building wheel for markovify (setup.py) ... \u001b[?25ldone\n",
      "\u001b[?25h  Created wheel for markovify: filename=markovify-0.9.0-py3-none-any.whl size=18474 sha256=98d5f08ec1741480bc3d5a7d824419e34a6a20f565aaec28d1a51bc085b4dd12\n",
      "  Stored in directory: /Users/sunrongsheng/Library/Caches/pip/wheels/cf/19/41/0f8707b2305726fadbd92649dcdb28d98a04e159eb24dd72f0\n",
      "Successfully built markovify\n",
      "Installing collected packages: unidecode, markovify\n",
      "Successfully installed markovify-0.9.0 unidecode-1.2.0\n"
     ]
    }
   ],
   "source": [
    "!pip install markovify"
   ]
  },
  {
   "cell_type": "markdown",
   "metadata": {},
   "source": [
    "* present here an example showing generation of arXiv article titles and abstract from existing ones. The end result could fool the laymen, as we will see."
   ]
  },
  {
   "cell_type": "code",
   "execution_count": 3,
   "metadata": {},
   "outputs": [],
   "source": [
    "import numpy as np\n",
    "import pandas as pd\n",
    "import markovify #ready-to-use text Markov chain"
   ]
  },
  {
   "cell_type": "code",
   "execution_count": 4,
   "metadata": {},
   "outputs": [
    {
     "data": {
      "text/html": [
       "<div>\n",
       "<style scoped>\n",
       "    .dataframe tbody tr th:only-of-type {\n",
       "        vertical-align: middle;\n",
       "    }\n",
       "\n",
       "    .dataframe tbody tr th {\n",
       "        vertical-align: top;\n",
       "    }\n",
       "\n",
       "    .dataframe thead th {\n",
       "        text-align: right;\n",
       "    }\n",
       "</style>\n",
       "<table border=\"1\" class=\"dataframe\">\n",
       "  <thead>\n",
       "    <tr style=\"text-align: right;\">\n",
       "      <th></th>\n",
       "      <th>author</th>\n",
       "      <th>day</th>\n",
       "      <th>id</th>\n",
       "      <th>link</th>\n",
       "      <th>month</th>\n",
       "      <th>summary</th>\n",
       "      <th>tag</th>\n",
       "      <th>title</th>\n",
       "      <th>year</th>\n",
       "      <th>all_text</th>\n",
       "    </tr>\n",
       "  </thead>\n",
       "  <tbody>\n",
       "    <tr>\n",
       "      <th>0</th>\n",
       "      <td>[{'name': 'Ahmed Osman'}, {'name': 'Wojciech S...</td>\n",
       "      <td>1</td>\n",
       "      <td>1802.00209v1</td>\n",
       "      <td>[{'rel': 'alternate', 'href': 'http://arxiv.or...</td>\n",
       "      <td>2</td>\n",
       "      <td>We propose an architecture for VQA which utili...</td>\n",
       "      <td>[{'term': 'cs.AI', 'scheme': 'http://arxiv.org...</td>\n",
       "      <td>Dual Recurrent Attention Units for Visual Ques...</td>\n",
       "      <td>2018</td>\n",
       "      <td>Dual Recurrent Attention Units for Visual Ques...</td>\n",
       "    </tr>\n",
       "    <tr>\n",
       "      <th>1</th>\n",
       "      <td>[{'name': 'Ji Young Lee'}, {'name': 'Franck De...</td>\n",
       "      <td>12</td>\n",
       "      <td>1603.03827v1</td>\n",
       "      <td>[{'rel': 'alternate', 'href': 'http://arxiv.or...</td>\n",
       "      <td>3</td>\n",
       "      <td>Recent approaches based on artificial neural n...</td>\n",
       "      <td>[{'term': 'cs.CL', 'scheme': 'http://arxiv.org...</td>\n",
       "      <td>Sequential Short-Text Classification with Recu...</td>\n",
       "      <td>2016</td>\n",
       "      <td>Sequential Short-Text Classification with Recu...</td>\n",
       "    </tr>\n",
       "    <tr>\n",
       "      <th>2</th>\n",
       "      <td>[{'name': 'Iulian Vlad Serban'}, {'name': 'Tim...</td>\n",
       "      <td>2</td>\n",
       "      <td>1606.00776v2</td>\n",
       "      <td>[{'rel': 'alternate', 'href': 'http://arxiv.or...</td>\n",
       "      <td>6</td>\n",
       "      <td>We introduce the multiresolution recurrent neu...</td>\n",
       "      <td>[{'term': 'cs.CL', 'scheme': 'http://arxiv.org...</td>\n",
       "      <td>Multiresolution Recurrent Neural Networks: An ...</td>\n",
       "      <td>2016</td>\n",
       "      <td>Multiresolution Recurrent Neural Networks: An ...</td>\n",
       "    </tr>\n",
       "    <tr>\n",
       "      <th>3</th>\n",
       "      <td>[{'name': 'Sebastian Ruder'}, {'name': 'Joachi...</td>\n",
       "      <td>23</td>\n",
       "      <td>1705.08142v2</td>\n",
       "      <td>[{'rel': 'alternate', 'href': 'http://arxiv.or...</td>\n",
       "      <td>5</td>\n",
       "      <td>Multi-task learning is motivated by the observ...</td>\n",
       "      <td>[{'term': 'stat.ML', 'scheme': 'http://arxiv.o...</td>\n",
       "      <td>Learning what to share between loosely related...</td>\n",
       "      <td>2017</td>\n",
       "      <td>Learning what to share between loosely related...</td>\n",
       "    </tr>\n",
       "    <tr>\n",
       "      <th>4</th>\n",
       "      <td>[{'name': 'Iulian V. Serban'}, {'name': 'Chinn...</td>\n",
       "      <td>7</td>\n",
       "      <td>1709.02349v2</td>\n",
       "      <td>[{'rel': 'alternate', 'href': 'http://arxiv.or...</td>\n",
       "      <td>9</td>\n",
       "      <td>We present MILABOT: a deep reinforcement learn...</td>\n",
       "      <td>[{'term': 'cs.CL', 'scheme': 'http://arxiv.org...</td>\n",
       "      <td>A Deep Reinforcement Learning Chatbot</td>\n",
       "      <td>2017</td>\n",
       "      <td>A Deep Reinforcement Learning Chatbot. We pres...</td>\n",
       "    </tr>\n",
       "  </tbody>\n",
       "</table>\n",
       "</div>"
      ],
      "text/plain": [
       "                                              author  day            id  \\\n",
       "0  [{'name': 'Ahmed Osman'}, {'name': 'Wojciech S...    1  1802.00209v1   \n",
       "1  [{'name': 'Ji Young Lee'}, {'name': 'Franck De...   12  1603.03827v1   \n",
       "2  [{'name': 'Iulian Vlad Serban'}, {'name': 'Tim...    2  1606.00776v2   \n",
       "3  [{'name': 'Sebastian Ruder'}, {'name': 'Joachi...   23  1705.08142v2   \n",
       "4  [{'name': 'Iulian V. Serban'}, {'name': 'Chinn...    7  1709.02349v2   \n",
       "\n",
       "                                                link  month  \\\n",
       "0  [{'rel': 'alternate', 'href': 'http://arxiv.or...      2   \n",
       "1  [{'rel': 'alternate', 'href': 'http://arxiv.or...      3   \n",
       "2  [{'rel': 'alternate', 'href': 'http://arxiv.or...      6   \n",
       "3  [{'rel': 'alternate', 'href': 'http://arxiv.or...      5   \n",
       "4  [{'rel': 'alternate', 'href': 'http://arxiv.or...      9   \n",
       "\n",
       "                                             summary  \\\n",
       "0  We propose an architecture for VQA which utili...   \n",
       "1  Recent approaches based on artificial neural n...   \n",
       "2  We introduce the multiresolution recurrent neu...   \n",
       "3  Multi-task learning is motivated by the observ...   \n",
       "4  We present MILABOT: a deep reinforcement learn...   \n",
       "\n",
       "                                                 tag  \\\n",
       "0  [{'term': 'cs.AI', 'scheme': 'http://arxiv.org...   \n",
       "1  [{'term': 'cs.CL', 'scheme': 'http://arxiv.org...   \n",
       "2  [{'term': 'cs.CL', 'scheme': 'http://arxiv.org...   \n",
       "3  [{'term': 'stat.ML', 'scheme': 'http://arxiv.o...   \n",
       "4  [{'term': 'cs.CL', 'scheme': 'http://arxiv.org...   \n",
       "\n",
       "                                               title  year  \\\n",
       "0  Dual Recurrent Attention Units for Visual Ques...  2018   \n",
       "1  Sequential Short-Text Classification with Recu...  2016   \n",
       "2  Multiresolution Recurrent Neural Networks: An ...  2016   \n",
       "3  Learning what to share between loosely related...  2017   \n",
       "4              A Deep Reinforcement Learning Chatbot  2017   \n",
       "\n",
       "                                            all_text  \n",
       "0  Dual Recurrent Attention Units for Visual Ques...  \n",
       "1  Sequential Short-Text Classification with Recu...  \n",
       "2  Multiresolution Recurrent Neural Networks: An ...  \n",
       "3  Learning what to share between loosely related...  \n",
       "4  A Deep Reinforcement Learning Chatbot. We pres...  "
      ]
     },
     "execution_count": 4,
     "metadata": {},
     "output_type": "execute_result"
    }
   ],
   "source": [
    "df = pd.read_json(\"arxivData.json\")\n",
    "\n",
    "#concatenating titles and abstract in new column\n",
    "df[\"all_text\"] = df[\"title\"] + \". \" + df[\"summary\"]\n",
    "df[\"all_text\"] = df[\"all_text\"].map(lambda x : x.replace(\"\\n\", \" \"))\n",
    "df.head(5)"
   ]
  },
  {
   "cell_type": "code",
   "execution_count": 5,
   "metadata": {},
   "outputs": [],
   "source": [
    "#number of words defining a state in the text Markov chain\n",
    "STATE_SIZE = 2\n",
    "\n",
    "#generating a model for all the text and one only for titles\n",
    "text_model = markovify.Text( df[\"all_text\"], state_size=STATE_SIZE)\n",
    "title_model = markovify.Text( df[\"title\"], state_size=STATE_SIZE)"
   ]
  },
  {
   "cell_type": "markdown",
   "metadata": {},
   "source": [
    "We picked states composed of two words. It's a compromise between variance, \"creativity\" of the word generation, and the requirement of a sensible output, respectively small and large state_size."
   ]
  },
  {
   "cell_type": "markdown",
   "metadata": {},
   "source": [
    "# Generating random article titles + abtracts"
   ]
  },
  {
   "cell_type": "code",
   "execution_count": 6,
   "metadata": {},
   "outputs": [],
   "source": [
    "def findnth( str, char=\" \", n=2):\n",
    "    \"\"\"\n",
    "    Returns position of n-th occurence of pattern in a string\n",
    "    \"\"\"\n",
    "    \n",
    "    index_from_beg = 0\n",
    "    while n >= 1:\n",
    "        index = str.find( char)\n",
    "        str = str[index+1:]\n",
    "        index_from_beg += index + len(char)\n",
    "        n -= 1\n",
    "    return index_from_beg"
   ]
  },
  {
   "cell_type": "code",
   "execution_count": 7,
   "metadata": {},
   "outputs": [
    {
     "name": "stdout",
     "output_type": "stream",
     "text": [
      "Relations between Incidence Calculus and a Proof of Calibration Methods for Cortical Data Analysis and Linear Discriminant Analysis model, the lower bound of SVMs.\n",
      "\n",
      "Modular Traffic Sign Detection using Convolutional Networks for Page Segmentation of CT image.\n",
      "\n",
      "Estimating Heterogeneous Consumer Preferences for Coreference Resolution by Deep Convolutional Neural Networks.\n",
      "\n",
      "Boltzmann-Machine Learning of Optimal Forecast Aggregation in Crowdsourcing with Unsure Option.\n",
      "\n",
      "Acronym-Meaning Extraction from Aerial Images by Reconstruction.\n",
      "\n",
      "Common Topics and Intents with Global Complexity Analysis of Microscopy Images.\n",
      "\n",
      "Dynamic Hand Gesture Recognition Using Sparse Fisher's LDA which leads to an embedded nonlinear Riemannian manifold preconditioning approach.\n",
      "\n"
     ]
    }
   ],
   "source": [
    "sample_size = 7\n",
    "successes = 0\n",
    "while successes < sample_size:\n",
    "    try: #some make_sentence calls raise a KeyError exception for misunderstood reasons\n",
    "        #first generating a title\n",
    "        _title = title_model.make_sentence()\n",
    "        _end_of_title = \" \".join( _title.split()[-STATE_SIZE:])\n",
    "\n",
    "        #generating abstract from the end of the tile\n",
    "        _abstract = text_model.make_sentence_with_start( _end_of_title)\n",
    "        \n",
    "        #concatenating both\n",
    "        index = findnth( _abstract, \" \", 2)\n",
    "        _abstract = _abstract[index:]\n",
    "        _full_article_description = _title + \" \" + _abstract\n",
    "        print( _full_article_description, end=\"\\n\\n\")\n",
    "        successes += 1\n",
    "\n",
    "    except:\n",
    "        pass"
   ]
  },
  {
   "cell_type": "code",
   "execution_count": null,
   "metadata": {},
   "outputs": [],
   "source": []
  }
 ],
 "metadata": {
  "kernelspec": {
   "display_name": "Python 3",
   "language": "python",
   "name": "python3"
  },
  "language_info": {
   "codemirror_mode": {
    "name": "ipython",
    "version": 3
   },
   "file_extension": ".py",
   "mimetype": "text/x-python",
   "name": "python",
   "nbconvert_exporter": "python",
   "pygments_lexer": "ipython3",
   "version": "3.8.5"
  }
 },
 "nbformat": 4,
 "nbformat_minor": 4
}
