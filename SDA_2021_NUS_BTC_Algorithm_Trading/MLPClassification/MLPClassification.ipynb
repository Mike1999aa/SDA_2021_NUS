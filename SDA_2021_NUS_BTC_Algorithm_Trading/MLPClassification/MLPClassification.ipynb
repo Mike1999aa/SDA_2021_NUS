{
 "cells": [
  {
   "cell_type": "code",
   "execution_count": 1,
   "metadata": {},
   "outputs": [],
   "source": [
    "# !pip install sklearn\n",
    "import numpy as np\n",
    "import matplotlib.pyplot as plt\n",
    "from sklearn.model_selection import RandomizedSearchCV\n",
    "import datetime as dt\n",
    "import pandas as pd\n",
    "from sklearn.neural_network import MLPClassifier\n",
    "from sklearn.metrics import accuracy_score\n",
    "import os\n",
    "from os.path import dirname"
   ]
  },
  {
   "cell_type": "markdown",
   "metadata": {},
   "source": [
    "## Load data"
   ]
  },
  {
   "cell_type": "code",
   "execution_count": 2,
   "metadata": {},
   "outputs": [
    {
     "data": {
      "text/html": [
       "<div>\n",
       "<style scoped>\n",
       "    .dataframe tbody tr th:only-of-type {\n",
       "        vertical-align: middle;\n",
       "    }\n",
       "\n",
       "    .dataframe tbody tr th {\n",
       "        vertical-align: top;\n",
       "    }\n",
       "\n",
       "    .dataframe thead th {\n",
       "        text-align: right;\n",
       "    }\n",
       "</style>\n",
       "<table border=\"1\" class=\"dataframe\">\n",
       "  <thead>\n",
       "    <tr style=\"text-align: right;\">\n",
       "      <th></th>\n",
       "      <th>HL</th>\n",
       "      <th>OC</th>\n",
       "      <th>AdjClose</th>\n",
       "      <th>Volume</th>\n",
       "      <th>ChangePer</th>\n",
       "      <th>UpDownSign</th>\n",
       "      <th>RSI</th>\n",
       "      <th>STCK</th>\n",
       "      <th>STCD</th>\n",
       "      <th>WILLS</th>\n",
       "      <th>...</th>\n",
       "      <th>volatility</th>\n",
       "      <th>shift1</th>\n",
       "      <th>shift2</th>\n",
       "      <th>shift3</th>\n",
       "      <th>shift4</th>\n",
       "      <th>shift5</th>\n",
       "      <th>shift6</th>\n",
       "      <th>shift7</th>\n",
       "      <th>shift8</th>\n",
       "      <th>shift9</th>\n",
       "    </tr>\n",
       "    <tr>\n",
       "      <th>Date</th>\n",
       "      <th></th>\n",
       "      <th></th>\n",
       "      <th></th>\n",
       "      <th></th>\n",
       "      <th></th>\n",
       "      <th></th>\n",
       "      <th></th>\n",
       "      <th></th>\n",
       "      <th></th>\n",
       "      <th></th>\n",
       "      <th></th>\n",
       "      <th></th>\n",
       "      <th></th>\n",
       "      <th></th>\n",
       "      <th></th>\n",
       "      <th></th>\n",
       "      <th></th>\n",
       "      <th></th>\n",
       "      <th></th>\n",
       "      <th></th>\n",
       "      <th></th>\n",
       "    </tr>\n",
       "  </thead>\n",
       "  <tbody>\n",
       "    <tr>\n",
       "      <th>2014-10-27</th>\n",
       "      <td>0.025222</td>\n",
       "      <td>0.005040</td>\n",
       "      <td>352.989014</td>\n",
       "      <td>13033000.0</td>\n",
       "      <td>-0.485850</td>\n",
       "      <td>1</td>\n",
       "      <td>30.951294</td>\n",
       "      <td>0.135258</td>\n",
       "      <td>0.078628</td>\n",
       "      <td>-0.864742</td>\n",
       "      <td>...</td>\n",
       "      <td>0.077398</td>\n",
       "      <td>354.704010</td>\n",
       "      <td>347.270996</td>\n",
       "      <td>358.345001</td>\n",
       "      <td>358.416992</td>\n",
       "      <td>383.157990</td>\n",
       "      <td>386.475006</td>\n",
       "      <td>382.845001</td>\n",
       "      <td>389.545990</td>\n",
       "      <td>391.441986</td>\n",
       "    </tr>\n",
       "    <tr>\n",
       "      <th>2014-10-28</th>\n",
       "      <td>0.020713</td>\n",
       "      <td>-0.012466</td>\n",
       "      <td>357.618011</td>\n",
       "      <td>7845880.0</td>\n",
       "      <td>1.294397</td>\n",
       "      <td>0</td>\n",
       "      <td>26.597270</td>\n",
       "      <td>0.263927</td>\n",
       "      <td>0.085762</td>\n",
       "      <td>-0.736073</td>\n",
       "      <td>...</td>\n",
       "      <td>0.078610</td>\n",
       "      <td>352.989014</td>\n",
       "      <td>354.704010</td>\n",
       "      <td>347.270996</td>\n",
       "      <td>358.345001</td>\n",
       "      <td>358.416992</td>\n",
       "      <td>383.157990</td>\n",
       "      <td>386.475006</td>\n",
       "      <td>382.845001</td>\n",
       "      <td>389.545990</td>\n",
       "    </tr>\n",
       "    <tr>\n",
       "      <th>2014-10-29</th>\n",
       "      <td>0.067066</td>\n",
       "      <td>0.060203</td>\n",
       "      <td>335.591003</td>\n",
       "      <td>18192700.0</td>\n",
       "      <td>-6.563647</td>\n",
       "      <td>1</td>\n",
       "      <td>22.686407</td>\n",
       "      <td>0.000000</td>\n",
       "      <td>0.081066</td>\n",
       "      <td>-1.000000</td>\n",
       "      <td>...</td>\n",
       "      <td>0.094250</td>\n",
       "      <td>357.618011</td>\n",
       "      <td>352.989014</td>\n",
       "      <td>354.704010</td>\n",
       "      <td>347.270996</td>\n",
       "      <td>358.345001</td>\n",
       "      <td>358.416992</td>\n",
       "      <td>383.157990</td>\n",
       "      <td>386.475006</td>\n",
       "      <td>382.845001</td>\n",
       "    </tr>\n",
       "    <tr>\n",
       "      <th>2014-10-30</th>\n",
       "      <td>0.047276</td>\n",
       "      <td>-0.028584</td>\n",
       "      <td>345.304993</td>\n",
       "      <td>30177900.0</td>\n",
       "      <td>2.813162</td>\n",
       "      <td>0</td>\n",
       "      <td>32.401375</td>\n",
       "      <td>0.204217</td>\n",
       "      <td>0.110240</td>\n",
       "      <td>-0.795783</td>\n",
       "      <td>...</td>\n",
       "      <td>0.085626</td>\n",
       "      <td>335.591003</td>\n",
       "      <td>357.618011</td>\n",
       "      <td>352.989014</td>\n",
       "      <td>354.704010</td>\n",
       "      <td>347.270996</td>\n",
       "      <td>358.345001</td>\n",
       "      <td>358.416992</td>\n",
       "      <td>383.157990</td>\n",
       "      <td>386.475006</td>\n",
       "    </tr>\n",
       "    <tr>\n",
       "      <th>2014-10-31</th>\n",
       "      <td>0.032340</td>\n",
       "      <td>0.019385</td>\n",
       "      <td>338.321014</td>\n",
       "      <td>12545400.0</td>\n",
       "      <td>-2.064305</td>\n",
       "      <td>0</td>\n",
       "      <td>29.646025</td>\n",
       "      <td>0.119601</td>\n",
       "      <td>0.127326</td>\n",
       "      <td>-0.880399</td>\n",
       "      <td>...</td>\n",
       "      <td>0.086598</td>\n",
       "      <td>345.304993</td>\n",
       "      <td>335.591003</td>\n",
       "      <td>357.618011</td>\n",
       "      <td>352.989014</td>\n",
       "      <td>354.704010</td>\n",
       "      <td>347.270996</td>\n",
       "      <td>358.345001</td>\n",
       "      <td>358.416992</td>\n",
       "      <td>383.157990</td>\n",
       "    </tr>\n",
       "  </tbody>\n",
       "</table>\n",
       "<p>5 rows × 23 columns</p>\n",
       "</div>"
      ],
      "text/plain": [
       "                  HL        OC    AdjClose      Volume  ChangePer  UpDownSign  \\\n",
       "Date                                                                            \n",
       "2014-10-27  0.025222  0.005040  352.989014  13033000.0  -0.485850           1   \n",
       "2014-10-28  0.020713 -0.012466  357.618011   7845880.0   1.294397           0   \n",
       "2014-10-29  0.067066  0.060203  335.591003  18192700.0  -6.563647           1   \n",
       "2014-10-30  0.047276 -0.028584  345.304993  30177900.0   2.813162           0   \n",
       "2014-10-31  0.032340  0.019385  338.321014  12545400.0  -2.064305           0   \n",
       "\n",
       "                  RSI      STCK     STCD      WILLS  ...  volatility  \\\n",
       "Date                                                 ...               \n",
       "2014-10-27  30.951294  0.135258  0.078628 -0.864742  ...    0.077398   \n",
       "2014-10-28  26.597270  0.263927  0.085762 -0.736073  ...    0.078610   \n",
       "2014-10-29  22.686407  0.000000  0.081066 -1.000000  ...    0.094250   \n",
       "2014-10-30  32.401375  0.204217  0.110240 -0.795783  ...    0.085626   \n",
       "2014-10-31  29.646025  0.119601  0.127326 -0.880399  ...    0.086598   \n",
       "\n",
       "                shift1      shift2      shift3      shift4      shift5  \\\n",
       "Date                                                                     \n",
       "2014-10-27  354.704010  347.270996  358.345001  358.416992  383.157990   \n",
       "2014-10-28  352.989014  354.704010  347.270996  358.345001  358.416992   \n",
       "2014-10-29  357.618011  352.989014  354.704010  347.270996  358.345001   \n",
       "2014-10-30  335.591003  357.618011  352.989014  354.704010  347.270996   \n",
       "2014-10-31  345.304993  335.591003  357.618011  352.989014  354.704010   \n",
       "\n",
       "                shift6      shift7      shift8      shift9  \n",
       "Date                                                        \n",
       "2014-10-27  386.475006  382.845001  389.545990  391.441986  \n",
       "2014-10-28  383.157990  386.475006  382.845001  389.545990  \n",
       "2014-10-29  358.416992  383.157990  386.475006  382.845001  \n",
       "2014-10-30  358.345001  358.416992  383.157990  386.475006  \n",
       "2014-10-31  347.270996  358.345001  358.416992  383.157990  \n",
       "\n",
       "[5 rows x 23 columns]"
      ]
     },
     "execution_count": 2,
     "metadata": {},
     "output_type": "execute_result"
    }
   ],
   "source": [
    "parent_dir = os.path.dirname(os.getcwd())\n",
    "df = pd.read_csv(parent_dir +  \"/data/BTC ML Final.csv\")\n",
    "df['Date']= pd.to_datetime(df['Date'], format='%d/%m/%Y')\n",
    "df.set_index('Date',inplace=True)\n",
    "df.head()\n",
    "df['shift1'] = df['AdjClose'].shift(1)\n",
    "df['shift2'] = df['AdjClose'].shift(2)\n",
    "df['shift3'] = df['AdjClose'].shift(3)\n",
    "df['shift4'] = df['AdjClose'].shift(4)\n",
    "df['shift5'] = df['AdjClose'].shift(5)\n",
    "df['shift6'] = df['AdjClose'].shift(6)\n",
    "df['shift7'] = df['AdjClose'].shift(7)\n",
    "df['shift8'] = df['AdjClose'].shift(8)\n",
    "df['shift9'] = df['AdjClose'].shift(9)\n",
    "df = df.iloc[9:,:]\n",
    "df.head(5)"
   ]
  },
  {
   "cell_type": "markdown",
   "metadata": {},
   "source": [
    "### Train test data preparation"
   ]
  },
  {
   "cell_type": "markdown",
   "metadata": {},
   "source": [
    "Suppose we are interested in the following train & test scenario:\n",
    "\n",
    "Train: before 20200101 \n",
    "\n",
    "Test: 20200101~20201231"
   ]
  },
  {
   "cell_type": "code",
   "execution_count": 214,
   "metadata": {},
   "outputs": [],
   "source": [
    "x_full = np.array(df[['HL', 'OC', 'Volume', 'ChangePer','RSI', 'STCK', 'STCD ', 'WILLS', 'MACD', 'ROCP', 'OBV', 'volatility',\n",
    "                      'AdjClose','shift1','shift2','shift3','shift4','shift5','shift6','shift7','shift8','shift9']])\n",
    "y_full = np.array(df[['UpDownSign']]).ravel()"
   ]
  },
  {
   "cell_type": "code",
   "execution_count": 215,
   "metadata": {},
   "outputs": [],
   "source": [
    "start_date = '2020-01-01'\n",
    "end_date = '2020-12-31' # one day after the test period\n",
    "start_index = df.index.get_loc(start_date)\n",
    "end_index = df.index.get_loc(end_date)"
   ]
  },
  {
   "cell_type": "code",
   "execution_count": 216,
   "metadata": {},
   "outputs": [],
   "source": [
    "x_train = x_full[:start_index,:]\n",
    "y_train = y_full[:start_index]"
   ]
  },
  {
   "cell_type": "code",
   "execution_count": 217,
   "metadata": {},
   "outputs": [
    {
     "data": {
      "text/plain": [
       "(1892, 22)"
      ]
     },
     "execution_count": 217,
     "metadata": {},
     "output_type": "execute_result"
    }
   ],
   "source": [
    "x_train.shape"
   ]
  },
  {
   "cell_type": "code",
   "execution_count": 218,
   "metadata": {},
   "outputs": [
    {
     "data": {
      "text/plain": [
       "(1892,)"
      ]
     },
     "execution_count": 218,
     "metadata": {},
     "output_type": "execute_result"
    }
   ],
   "source": [
    "y_train.shape"
   ]
  },
  {
   "cell_type": "markdown",
   "metadata": {},
   "source": [
    "### Randomized search"
   ]
  },
  {
   "cell_type": "code",
   "execution_count": 219,
   "metadata": {},
   "outputs": [
    {
     "data": {
      "text/plain": [
       "RandomizedSearchCV(cv=5, estimator=MLPClassifier(), n_iter=25, n_jobs=-1,\n",
       "                   param_distributions={'alpha': array([0.1]),\n",
       "                                        'hidden_layer_sizes': [(100, 50),\n",
       "                                                               (50, 25),\n",
       "                                                               (10, 5),\n",
       "                                                               (5, 2)],\n",
       "                                        'max_iter': [200, 500, 1000, 1500],\n",
       "                                        'random_state': [0, 1, 2, 3],\n",
       "                                        'solver': ['adam']})"
      ]
     },
     "execution_count": 219,
     "metadata": {},
     "output_type": "execute_result"
    }
   ],
   "source": [
    "parameters_roll = {'solver': ['adam'], \n",
    "              'max_iter': [200,500,1000,1500], \n",
    "              'alpha': 10.0 ** -np.arange(1, 2), \n",
    "              'hidden_layer_sizes':[(100,50),(50,25),(10,5),(5,2)], \n",
    "              'random_state':[0,1,2,3]}\n",
    "clf_rand_roll = RandomizedSearchCV(MLPClassifier(), parameters_roll, n_jobs=-1, n_iter=25, cv=5)\n",
    "clf_rand_roll.fit(x_train, y_train)"
   ]
  },
  {
   "cell_type": "code",
   "execution_count": 220,
   "metadata": {},
   "outputs": [
    {
     "name": "stdout",
     "output_type": "stream",
     "text": [
      "{'solver': 'adam', 'random_state': 1, 'max_iter': 1000, 'hidden_layer_sizes': (10, 5), 'alpha': 0.1}\n"
     ]
    }
   ],
   "source": [
    "print(clf_rand_roll.best_params_)"
   ]
  },
  {
   "cell_type": "code",
   "execution_count": 221,
   "metadata": {},
   "outputs": [],
   "source": [
    "y_train_pred = clf_rand_roll.predict(x_train)"
   ]
  },
  {
   "cell_type": "code",
   "execution_count": 261,
   "metadata": {},
   "outputs": [
    {
     "name": "stdout",
     "output_type": "stream",
     "text": [
      "Training accuracy is: 54.756871035940804 %\n"
     ]
    }
   ],
   "source": [
    "print('Training accuracy is:', sum(y_train_pred==y_train)/len(y_train)*100, '%')"
   ]
  },
  {
   "cell_type": "markdown",
   "metadata": {},
   "source": [
    "### Model training "
   ]
  },
  {
   "cell_type": "code",
   "execution_count": 226,
   "metadata": {},
   "outputs": [],
   "source": [
    "def model_train(x_train, y_train):\n",
    "    model = MLPClassifier(solver= 'adam', random_state= 1, max_iter= 1000, hidden_layer_sizes= (100, 5), alpha= 0.1).fit(x_train,y_train)\n",
    "    return model"
   ]
  },
  {
   "cell_type": "markdown",
   "metadata": {},
   "source": [
    "### Trading P&L"
   ]
  },
  {
   "cell_type": "markdown",
   "metadata": {},
   "source": [
    "On a rolling window of 5 days"
   ]
  },
  {
   "cell_type": "code",
   "execution_count": 247,
   "metadata": {},
   "outputs": [],
   "source": [
    "start=450\n",
    "end=90\n",
    "base=5\n",
    "n=round((start-end)/base) \n",
    "acc=np.zeros(n)\n",
    "index=df['ChangePer'].index[-start:-end]\n",
    "mlp=np.ones(n*base)\n",
    "passive=np.ones(n*base)"
   ]
  },
  {
   "cell_type": "code",
   "execution_count": 228,
   "metadata": {},
   "outputs": [],
   "source": [
    "nCorrectPreds = 0\n",
    "for i in range (0,n):\n",
    "    begin=-start+i*base\n",
    "    end=-start+(i+1)*base\n",
    "    model=model_train(x_full[:begin,:], y_full[:begin])\n",
    "    actual_return=df['ChangePer']/100\n",
    "    if end==0:\n",
    "        pred_signals=model.predict(x_full[begin:,:])\n",
    "        Y_test=y_full[begin:]\n",
    "        ret=actual_return.iloc[begin:]\n",
    "    else:\n",
    "        pred_signals=model.predict(x_full[begin:end,:])\n",
    "        Y_test=y_full[begin:end]\n",
    "        ret=actual_return.iloc[begin:end]\n",
    "    nCorrectPreds += sum(pred_signals==Y_test)\n",
    "    #trading strategy:1 long;0 short\n",
    "    #calculate trading strategy performance\n",
    "    ret=ret.to_numpy()\n",
    "    length=len(ret)\n",
    "    signals=pred_signals\n",
    "    value=np.zeros(length)\n",
    "    investment=np.zeros(length)\n",
    "    if i==0:\n",
    "        value[0]=mlp[i*base]\n",
    "        investment[0]=passive[i*base]\n",
    "    else:\n",
    "        value[0]=mlp[i*base-1]\n",
    "        investment[0]=passive[i*base-1]\n",
    "    for j in range(0,length-1):\n",
    "        if signals[j]==1:\n",
    "            value[j+1]=value[j]*(1+ret[j+1])\n",
    "        else: \n",
    "            value[j+1]=value[j]*(1-ret[j+1])\n",
    "        investment[j+1]=investment[j]*(1+ret[j+1])\n",
    "    mlp[i*base:(i+1)*base]=value\n",
    "    passive[i*base:(i+1)*base]=investment"
   ]
  },
  {
   "cell_type": "code",
   "execution_count": 236,
   "metadata": {},
   "outputs": [
    {
     "name": "stdout",
     "output_type": "stream",
     "text": [
      "Accuracy is:  50.83333333333333 %\n"
     ]
    }
   ],
   "source": [
    "print('Accuracy is: ', nCorrectPreds/(start+end)*100, '%')"
   ]
  },
  {
   "cell_type": "code",
   "execution_count": 211,
   "metadata": {},
   "outputs": [
    {
     "data": {
      "image/png": "[encoded data removed]",
      "text/plain": [
       "<Figure size 432x288 with 1 Axes>"
      ]
     },
     "metadata": {
      "needs_background": "light"
     },
     "output_type": "display_data"
    }
   ],
   "source": [
    "#plot figure\n",
    "str_index = index.strftime(date_format='%Y-%m-%d')\n",
    "fig, ax=plt.subplots()\n",
    "plt.plot(index, mlp, label='MLP Classifier strategy')\n",
    "plt.plot(index, passive, label='passive investment')\n",
    "plt.xticks(str_index)\n",
    "plt.xticks(rotation=90)\n",
    "plt.title(\"BTC-USD\")\n",
    "plt.legend()\n",
    "\n",
    "every_nth = 30\n",
    "for n, label in enumerate(ax.xaxis.get_ticklabels()):\n",
    "    if n % every_nth != 0:\n",
    "        label.set_visible(False)"
   ]
  },
  {
   "cell_type": "code",
   "execution_count": 246,
   "metadata": {},
   "outputs": [
    {
     "name": "stdout",
     "output_type": "stream",
     "text": [
      "Return: strategy  1.0148547318286276  investment  0.5328026930370158\n",
      "Standard deviation: strategy  0.04806643701857564  investment  0.07620883839639513\n",
      "Sharpe ratio: strategy  20.78903271824492  investment  6.786649736698792\n"
     ]
    }
   ],
   "source": [
    "# calculate trading strategy volatility and Sharpe ratio (annualised)\n",
    "strategy_return=np.zeros(length)\n",
    "for i in range(0,length-1):\n",
    "    strategy_return[i]=mlp[i+1]/mlp[i]-1\n",
    "std_strategy=strategy_return.std()*np.sqrt(length)\n",
    "std_invest=ret.std()*np.sqrt(length)\n",
    "ret_strategy=(mlp[-1]/mlp[0]-1)\n",
    "ret_invest=(passive[-1]/passive[0]-1)\n",
    "rf= 1.56/100\n",
    "SR_strategy=(ret_strategy-rf)/std_strategy\n",
    "SR_invest=(ret_invest-rf)/std_invest\n",
    "print(\"Return: strategy \",ret_strategy, \" investment \", ret_invest)\n",
    "print(\"Standard deviation: strategy \",std_strategy, \" investment \", std_invest)\n",
    "print(\"Sharpe ratio: strategy \",SR_strategy, \" investment \", SR_invest)"
   ]
  },
  {
   "cell_type": "code",
   "execution_count": null,
   "metadata": {},
   "outputs": [],
   "source": []
  }
 ],
 "metadata": {
  "kernelspec": {
   "display_name": "Python 3",
   "language": "python",
   "name": "python3"
  },
  "language_info": {
   "codemirror_mode": {
    "name": "ipython",
    "version": 3
   },
   "file_extension": ".py",
   "mimetype": "text/x-python",
   "name": "python",
   "nbconvert_exporter": "python",
   "pygments_lexer": "ipython3",
   "version": "3.8.5"
  }
 },
 "nbformat": 4,
 "nbformat_minor": 2
}
